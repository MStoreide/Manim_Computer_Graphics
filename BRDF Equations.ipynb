{
 "cells": [
  {
   "cell_type": "code",
   "execution_count": 11,
   "metadata": {},
   "outputs": [],
   "source": [
    "from manim import *\n",
    "#This will just check the manim version\n",
    "config.media_width = \"75%\"\n",
    "config.verbosity = \"WARNING\""
   ]
  },
  {
   "cell_type": "code",
   "execution_count": 4,
   "metadata": {},
   "outputs": [
    {
     "ename": "KeyError",
     "evalue": "'PhongReflectionModel'",
     "output_type": "error",
     "traceback": [
      "\u001b[1;31m---------------------------------------------------------------------------\u001b[0m",
      "\u001b[1;31mKeyError\u001b[0m                                  Traceback (most recent call last)",
      "Cell \u001b[1;32mIn[4], line 4\u001b[0m\n\u001b[0;32m      1\u001b[0m \u001b[39m#Working Phong Model\u001b[39;00m\n\u001b[0;32m      2\u001b[0m \u001b[39m# Just need to fix direction latex\u001b[39;00m\n\u001b[1;32m----> 4\u001b[0m get_ipython()\u001b[39m.\u001b[39;49mrun_line_magic(\u001b[39m'\u001b[39;49m\u001b[39mmanim\u001b[39;49m\u001b[39m'\u001b[39;49m, \u001b[39m'\u001b[39;49m\u001b[39m-qm PhongReflectionModel\u001b[39;49m\u001b[39m'\u001b[39;49m)\n\u001b[0;32m      6\u001b[0m \u001b[39m#Almost got the angles right.\u001b[39;00m\n\u001b[0;32m      8\u001b[0m \u001b[39mclass\u001b[39;00m \u001b[39mPhongReflectionModel\u001b[39;00m(Scene):\n",
      "File \u001b[1;32mc:\\Users\\drive\\anaconda3\\envs\\Manim\\lib\\site-packages\\IPython\\core\\interactiveshell.py:2369\u001b[0m, in \u001b[0;36mInteractiveShell.run_line_magic\u001b[1;34m(self, magic_name, line, _stack_depth)\u001b[0m\n\u001b[0;32m   2367\u001b[0m     kwargs[\u001b[39m'\u001b[39m\u001b[39mlocal_ns\u001b[39m\u001b[39m'\u001b[39m] \u001b[39m=\u001b[39m \u001b[39mself\u001b[39m\u001b[39m.\u001b[39mget_local_scope(stack_depth)\n\u001b[0;32m   2368\u001b[0m \u001b[39mwith\u001b[39;00m \u001b[39mself\u001b[39m\u001b[39m.\u001b[39mbuiltin_trap:\n\u001b[1;32m-> 2369\u001b[0m     result \u001b[39m=\u001b[39m fn(\u001b[39m*\u001b[39margs, \u001b[39m*\u001b[39m\u001b[39m*\u001b[39mkwargs)\n\u001b[0;32m   2371\u001b[0m \u001b[39m# The code below prevents the output from being displayed\u001b[39;00m\n\u001b[0;32m   2372\u001b[0m \u001b[39m# when using magics with decodator @output_can_be_silenced\u001b[39;00m\n\u001b[0;32m   2373\u001b[0m \u001b[39m# when the last Python token in the expression is a ';'.\u001b[39;00m\n\u001b[0;32m   2374\u001b[0m \u001b[39mif\u001b[39;00m \u001b[39mgetattr\u001b[39m(fn, magic\u001b[39m.\u001b[39mMAGIC_OUTPUT_CAN_BE_SILENCED, \u001b[39mFalse\u001b[39;00m):\n",
      "File \u001b[1;32mc:\\Users\\drive\\anaconda3\\envs\\Manim\\lib\\site-packages\\manim\\utils\\ipython_magic.py:139\u001b[0m, in \u001b[0;36mManimMagic.manim\u001b[1;34m(self, line, cell, local_ns)\u001b[0m\n\u001b[0;32m    136\u001b[0m     renderer \u001b[39m=\u001b[39m OpenGLRenderer()\n\u001b[0;32m    138\u001b[0m \u001b[39mtry\u001b[39;00m:\n\u001b[1;32m--> 139\u001b[0m     SceneClass \u001b[39m=\u001b[39m local_ns[config[\u001b[39m\"\u001b[39;49m\u001b[39mscene_names\u001b[39;49m\u001b[39m\"\u001b[39;49m][\u001b[39m0\u001b[39;49m]]\n\u001b[0;32m    140\u001b[0m     scene \u001b[39m=\u001b[39m SceneClass(renderer\u001b[39m=\u001b[39mrenderer)\n\u001b[0;32m    141\u001b[0m     scene\u001b[39m.\u001b[39mrender()\n",
      "\u001b[1;31mKeyError\u001b[0m: 'PhongReflectionModel'"
     ]
    }
   ],
   "source": [
    "#Working Phong Model\n",
    "# Just need to fix direction latex\n",
    "\n",
    "%manim -qm PhongReflectionModel\n",
    "\n",
    "#Almost got the angles right.\n",
    "\n",
    "class PhongReflectionModel(Scene):\n",
    "    def construct(self):\n",
    "        formula = MathTex(r\"f_{r,s}(\\omega^\\rightharpoonup _i ,\\omega^\\rightharpoonup _r) = k_s(\\omega^\\rightharpoonup _r.R^\\rightharpoonup _{\\omega i})^n = k_s(\\cos \\alpha)^n\")\n",
    "        label = Text(\"Phong Reflection Model\")\n",
    "        label.next_to(formula, UP, buff=0.5)\n",
    "        self.play(Write(label), run_time=1)\n",
    "        self.wait()\n",
    "        self.play(Write(formula), run_time=1.5) \n",
    "        self.wait()"
   ]
  },
  {
   "cell_type": "code",
   "execution_count": 6,
   "metadata": {},
   "outputs": [
    {
     "name": "stderr",
     "output_type": "stream",
     "text": [
      "                                                                                                                                                                                                                                                  \r"
     ]
    },
    {
     "data": {
      "text/html": [
       "<video src=\"media\\jupyter\\CompletePhongReflectionModel@2023-03-13@14-48-20.mp4\" controls autoplay loop style=\"max-width: 75%;\"  >\n",
       "      Your browser does not support the <code>video</code> element.\n",
       "    </video>"
      ],
      "text/plain": [
       "<IPython.core.display.Video object>"
      ]
     },
     "metadata": {},
     "output_type": "display_data"
    }
   ],
   "source": [
    "%manim -qm CompletePhongReflectionModel\n",
    "\n",
    "class CompletePhongReflectionModel(Scene):\n",
    "    def construct(self):\n",
    "        formula = MathTex(r\"f_{r,P} = [k_a + k_d (n^\\rightharpoonup . \\omega^\\rightharpoonup _i) + k_s (\\omega^\\rightharpoonup _r . R^\\rightharpoonup _{\\omega i})^n] \\frac{L_i}{r^2}\")\n",
    "        label = Text(\"Complete Phong Reflection Model\")\n",
    "        label.next_to(formula, UP, buff=0.5)\n",
    "        self.play(Write(label), run_time=1)\n",
    "        self.wait()\n",
    "        self.play(Write(formula), run_time=1.5) \n",
    "        self.wait()"
   ]
  },
  {
   "cell_type": "code",
   "execution_count": 8,
   "metadata": {},
   "outputs": [
    {
     "ename": "KeyError",
     "evalue": "'FlatGouraudPhong'",
     "output_type": "error",
     "traceback": [
      "\u001b[1;31m---------------------------------------------------------------------------\u001b[0m",
      "\u001b[1;31mKeyError\u001b[0m                                  Traceback (most recent call last)",
      "Cell \u001b[1;32mIn[8], line 1\u001b[0m\n\u001b[1;32m----> 1\u001b[0m get_ipython()\u001b[39m.\u001b[39;49mrun_line_magic(\u001b[39m'\u001b[39;49m\u001b[39mmanim\u001b[39;49m\u001b[39m'\u001b[39;49m, \u001b[39m'\u001b[39;49m\u001b[39m-qm FlatGouraudPhong\u001b[39;49m\u001b[39m'\u001b[39;49m)\n\u001b[0;32m      3\u001b[0m \u001b[39mclass\u001b[39;00m \u001b[39mFlatGouraudPhong\u001b[39;00m(Scene):\n\u001b[0;32m      4\u001b[0m     \u001b[39mdef\u001b[39;00m \u001b[39mconstruct\u001b[39m(\u001b[39mself\u001b[39m):\n",
      "File \u001b[1;32mc:\\Users\\drive\\anaconda3\\envs\\Manim\\lib\\site-packages\\IPython\\core\\interactiveshell.py:2369\u001b[0m, in \u001b[0;36mInteractiveShell.run_line_magic\u001b[1;34m(self, magic_name, line, _stack_depth)\u001b[0m\n\u001b[0;32m   2367\u001b[0m     kwargs[\u001b[39m'\u001b[39m\u001b[39mlocal_ns\u001b[39m\u001b[39m'\u001b[39m] \u001b[39m=\u001b[39m \u001b[39mself\u001b[39m\u001b[39m.\u001b[39mget_local_scope(stack_depth)\n\u001b[0;32m   2368\u001b[0m \u001b[39mwith\u001b[39;00m \u001b[39mself\u001b[39m\u001b[39m.\u001b[39mbuiltin_trap:\n\u001b[1;32m-> 2369\u001b[0m     result \u001b[39m=\u001b[39m fn(\u001b[39m*\u001b[39margs, \u001b[39m*\u001b[39m\u001b[39m*\u001b[39mkwargs)\n\u001b[0;32m   2371\u001b[0m \u001b[39m# The code below prevents the output from being displayed\u001b[39;00m\n\u001b[0;32m   2372\u001b[0m \u001b[39m# when using magics with decodator @output_can_be_silenced\u001b[39;00m\n\u001b[0;32m   2373\u001b[0m \u001b[39m# when the last Python token in the expression is a ';'.\u001b[39;00m\n\u001b[0;32m   2374\u001b[0m \u001b[39mif\u001b[39;00m \u001b[39mgetattr\u001b[39m(fn, magic\u001b[39m.\u001b[39mMAGIC_OUTPUT_CAN_BE_SILENCED, \u001b[39mFalse\u001b[39;00m):\n",
      "File \u001b[1;32mc:\\Users\\drive\\anaconda3\\envs\\Manim\\lib\\site-packages\\manim\\utils\\ipython_magic.py:139\u001b[0m, in \u001b[0;36mManimMagic.manim\u001b[1;34m(self, line, cell, local_ns)\u001b[0m\n\u001b[0;32m    136\u001b[0m     renderer \u001b[39m=\u001b[39m OpenGLRenderer()\n\u001b[0;32m    138\u001b[0m \u001b[39mtry\u001b[39;00m:\n\u001b[1;32m--> 139\u001b[0m     SceneClass \u001b[39m=\u001b[39m local_ns[config[\u001b[39m\"\u001b[39;49m\u001b[39mscene_names\u001b[39;49m\u001b[39m\"\u001b[39;49m][\u001b[39m0\u001b[39;49m]]\n\u001b[0;32m    140\u001b[0m     scene \u001b[39m=\u001b[39m SceneClass(renderer\u001b[39m=\u001b[39mrenderer)\n\u001b[0;32m    141\u001b[0m     scene\u001b[39m.\u001b[39mrender()\n",
      "\u001b[1;31mKeyError\u001b[0m: 'FlatGouraudPhong'"
     ]
    }
   ],
   "source": [
    "%manim -qm FlatGouraudPhong\n",
    "\n",
    "class FlatGouraudPhong(Scene):\n",
    "    def construct(self):\n",
    "        Flabel = Text(\"Flat shading: One surface normal, hence one color for each polygon\")\n",
    "        Glabel = Text(\"Gouraud shading: Color for each point is computed by interpolating the color of the vertices\")\n",
    "        Plabel = Text(\"Phong shading: Surface normal at each point is interpolated and used to compute the color of each point\")\n",
    "        Glabel.next_to(Flabel, DOWN, buff=0.5)\n",
    "        Plabel.next_to(Glabel, DOWN, buff=0.5)\n",
    "        self.play(Write(Flabel, Glabel, Plabel, run_time=1))\n",
    "        self.wait()\n",
    "#Then visualize the same as on slide 14 of the Reflection Models\n"
   ]
  },
  {
   "cell_type": "code",
   "execution_count": 4,
   "metadata": {},
   "outputs": [
    {
     "ename": "NameError",
     "evalue": "name 'Scene' is not defined",
     "output_type": "error",
     "traceback": [
      "\u001b[1;31m---------------------------------------------------------------------------\u001b[0m",
      "\u001b[1;31mNameError\u001b[0m                                 Traceback (most recent call last)",
      "Cell \u001b[1;32mIn[4], line 6\u001b[0m\n\u001b[0;32m      1\u001b[0m \u001b[39m#Working Blinn-Phong Model\u001b[39;00m\n\u001b[0;32m      2\u001b[0m \u001b[39m# Just need to fix direction latex (\\rightharpoonup is the latex)\u001b[39;00m\n\u001b[0;32m      3\u001b[0m \n\u001b[0;32m      4\u001b[0m \u001b[39m#Should also add colors\u001b[39;00m\n\u001b[1;32m----> 6\u001b[0m \u001b[39mclass\u001b[39;00m \u001b[39mBlinnPhongReflectionModel\u001b[39;00m(Scene):\n\u001b[0;32m      7\u001b[0m     \u001b[39mdef\u001b[39;00m \u001b[39mconstruct\u001b[39m(\u001b[39mself\u001b[39m):\n\u001b[0;32m      8\u001b[0m         formula \u001b[39m=\u001b[39m MathTex(\u001b[39mr\u001b[39m\u001b[39m\"\u001b[39m\u001b[39mf_\u001b[39m\u001b[39m{\u001b[39m\u001b[39mr,BP}(\u001b[39m\u001b[39m\\\u001b[39m\u001b[39momega _i,\u001b[39m\u001b[39m\\\u001b[39m\u001b[39momega _r) = k_s(n.h)^n\u001b[39m\u001b[39m\"\u001b[39m)\n",
      "\u001b[1;31mNameError\u001b[0m: name 'Scene' is not defined"
     ]
    }
   ],
   "source": [
    "#Working Blinn-Phong Model\n",
    "# Just need to fix direction latex (\\rightharpoonup is the latex)\n",
    "\n",
    "#Should also add colors\n",
    "\n",
    "class BlinnPhongReflectionModel(Scene):\n",
    "    def construct(self):\n",
    "        formula = MathTex(r\"f_{r,BP}(\\omega _i,\\omega _r) = k_s(n.h)^n\")\n",
    "        label = Text(\"Blinn-Phong Reflection Model\")\n",
    "        label.next_to(formula, UP, buff=0.5)\n",
    "        self.play(Write(label), run_time=1)\n",
    "        self.wait()\n",
    "        self.play(Write(formula), run_time=1.5) \n",
    "        self.wait()"
   ]
  },
  {
   "cell_type": "code",
   "execution_count": 9,
   "metadata": {},
   "outputs": [],
   "source": [
    "# Working Ward Model\n",
    "\n",
    "class WardReflectionModel(Scene):\n",
    "    def construct(self):\n",
    "        formula = MathTex(r\"f_r,_W(\\omega _i, \\omega _r) = \\frac{\\rho _d}{\\pi} + \\frac{\\rho _d}{\\sqrt{\\cos(\\theta _i) \\cos (\\theta _r)})} . \\frac{e^{\\tan^2 (\\frac{\\theta _h}{\\alpha^2})}}{4 \\pi \\alpha^2}\")\n",
    "        label = Text(\"Ward Reflection Model\")\n",
    "        label.next_to(formula, UP, buff=0.5)\n",
    "        self.play(Write(label), run_time=1)\n",
    "        self.wait()\n",
    "        self.play(Write(formula), run_time=2)\n",
    "        self.wait()"
   ]
  },
  {
   "cell_type": "code",
   "execution_count": 10,
   "metadata": {},
   "outputs": [],
   "source": [
    "# Cook-Torrance Model\n",
    "\n",
    "class CookTorranceReflectionModel(Scene):\n",
    "    def construct(self):\n",
    "        formula = MathTex(r\"f_{r,s}(\\omega _i, \\omega _r) = \\frac{F(\\theta _r)D(h)G(\\omega _i, \\omega _r)}{\\pi \\cos (\\theta _r) \\cos(\\theta _i)}\")\n",
    "        label = Text(\"Cook-Torrance Reflection Model\")\n",
    "        label.next_to(formula, UP, buff=0.5)\n",
    "        self.play(Write(label), run_time=1)\n",
    "        self.wait()\n",
    "        self.play(Write(formula), run_time=2)\n",
    "        self.wait()"
   ]
  },
  {
   "cell_type": "code",
   "execution_count": 19,
   "metadata": {},
   "outputs": [
    {
     "ename": "TypeError",
     "evalue": "'MathTex' object is not callable",
     "output_type": "error",
     "traceback": [
      "\u001b[1;31m---------------------------------------------------------------------------\u001b[0m",
      "\u001b[1;31mTypeError\u001b[0m                                 Traceback (most recent call last)",
      "Cell \u001b[1;32mIn[19], line 3\u001b[0m\n\u001b[0;32m      1\u001b[0m \u001b[39m# Cook-Torrance Elements\u001b[39;00m\n\u001b[1;32m----> 3\u001b[0m get_ipython()\u001b[39m.\u001b[39;49mrun_line_magic(\u001b[39m'\u001b[39;49m\u001b[39mmanim\u001b[39;49m\u001b[39m'\u001b[39;49m, \u001b[39m'\u001b[39;49m\u001b[39m-qm CookTorranceElements\u001b[39;49m\u001b[39m'\u001b[39;49m)\n\u001b[0;32m      5\u001b[0m \u001b[39mclass\u001b[39;00m \u001b[39mCookTorranceElements\u001b[39;00m(Scene):\n\u001b[0;32m      6\u001b[0m     \u001b[39mdef\u001b[39;00m \u001b[39mconstruct\u001b[39m(\u001b[39mself\u001b[39m):\n",
      "File \u001b[1;32mc:\\Users\\drive\\anaconda3\\envs\\Manim\\lib\\site-packages\\IPython\\core\\interactiveshell.py:2369\u001b[0m, in \u001b[0;36mInteractiveShell.run_line_magic\u001b[1;34m(self, magic_name, line, _stack_depth)\u001b[0m\n\u001b[0;32m   2367\u001b[0m     kwargs[\u001b[39m'\u001b[39m\u001b[39mlocal_ns\u001b[39m\u001b[39m'\u001b[39m] \u001b[39m=\u001b[39m \u001b[39mself\u001b[39m\u001b[39m.\u001b[39mget_local_scope(stack_depth)\n\u001b[0;32m   2368\u001b[0m \u001b[39mwith\u001b[39;00m \u001b[39mself\u001b[39m\u001b[39m.\u001b[39mbuiltin_trap:\n\u001b[1;32m-> 2369\u001b[0m     result \u001b[39m=\u001b[39m fn(\u001b[39m*\u001b[39margs, \u001b[39m*\u001b[39m\u001b[39m*\u001b[39mkwargs)\n\u001b[0;32m   2371\u001b[0m \u001b[39m# The code below prevents the output from being displayed\u001b[39;00m\n\u001b[0;32m   2372\u001b[0m \u001b[39m# when using magics with decodator @output_can_be_silenced\u001b[39;00m\n\u001b[0;32m   2373\u001b[0m \u001b[39m# when the last Python token in the expression is a ';'.\u001b[39;00m\n\u001b[0;32m   2374\u001b[0m \u001b[39mif\u001b[39;00m \u001b[39mgetattr\u001b[39m(fn, magic\u001b[39m.\u001b[39mMAGIC_OUTPUT_CAN_BE_SILENCED, \u001b[39mFalse\u001b[39;00m):\n",
      "File \u001b[1;32mc:\\Users\\drive\\anaconda3\\envs\\Manim\\lib\\site-packages\\manim\\utils\\ipython_magic.py:141\u001b[0m, in \u001b[0;36mManimMagic.manim\u001b[1;34m(self, line, cell, local_ns)\u001b[0m\n\u001b[0;32m    139\u001b[0m     SceneClass \u001b[39m=\u001b[39m local_ns[config[\u001b[39m\"\u001b[39m\u001b[39mscene_names\u001b[39m\u001b[39m\"\u001b[39m][\u001b[39m0\u001b[39m]]\n\u001b[0;32m    140\u001b[0m     scene \u001b[39m=\u001b[39m SceneClass(renderer\u001b[39m=\u001b[39mrenderer)\n\u001b[1;32m--> 141\u001b[0m     scene\u001b[39m.\u001b[39;49mrender()\n\u001b[0;32m    142\u001b[0m \u001b[39mfinally\u001b[39;00m:\n\u001b[0;32m    143\u001b[0m     \u001b[39m# Shader cache becomes invalid as the context is destroyed\u001b[39;00m\n\u001b[0;32m    144\u001b[0m     shader_program_cache\u001b[39m.\u001b[39mclear()\n",
      "File \u001b[1;32mc:\\Users\\drive\\anaconda3\\envs\\Manim\\lib\\site-packages\\manim\\scene\\scene.py:223\u001b[0m, in \u001b[0;36mScene.render\u001b[1;34m(self, preview)\u001b[0m\n\u001b[0;32m    221\u001b[0m \u001b[39mself\u001b[39m\u001b[39m.\u001b[39msetup()\n\u001b[0;32m    222\u001b[0m \u001b[39mtry\u001b[39;00m:\n\u001b[1;32m--> 223\u001b[0m     \u001b[39mself\u001b[39;49m\u001b[39m.\u001b[39;49mconstruct()\n\u001b[0;32m    224\u001b[0m \u001b[39mexcept\u001b[39;00m EndSceneEarlyException:\n\u001b[0;32m    225\u001b[0m     \u001b[39mpass\u001b[39;00m\n",
      "Cell \u001b[1;32mIn[15], line 10\u001b[0m, in \u001b[0;36mCookTorranceElements.construct\u001b[1;34m(self)\u001b[0m\n\u001b[0;32m      8\u001b[0m formula3 \u001b[39m=\u001b[39m MathTex(\u001b[39mr\u001b[39m\u001b[39m\"\u001b[39m\u001b[39mF(\u001b[39m\u001b[39m\\\u001b[39m\u001b[39mtheta _r) = \u001b[39m\u001b[39m\\\u001b[39m\u001b[39mfrac\u001b[39m\u001b[39m{\u001b[39m\u001b[39m(g-c)^2}\u001b[39m\u001b[39m{\u001b[39m\u001b[39m2(g+c)^2}(1+\u001b[39m\u001b[39m\\\u001b[39m\u001b[39mfrac\u001b[39m\u001b[39m{\u001b[39m\u001b[39m(c(g+c)-1)^2}\u001b[39m\u001b[39m{\u001b[39m\u001b[39m(c(g-c)+1)^2})\u001b[39m\u001b[39m\"\u001b[39m) \u001b[39m#c = \\omega _r.h #g = \\eta^2 + c^2 -1\u001b[39;00m\n\u001b[0;32m      9\u001b[0m formula3\u001b[39m.\u001b[39mnext_to(formula2, DOWN, buff\u001b[39m=\u001b[39m\u001b[39m0.5\u001b[39m)\n\u001b[1;32m---> 10\u001b[0m \u001b[39mself\u001b[39;49m\u001b[39m.\u001b[39;49mplay(Write(formula1, formula2, formula3), run_time\u001b[39m=\u001b[39;49m\u001b[39m3\u001b[39;49m)\n\u001b[0;32m     11\u001b[0m \u001b[39mself\u001b[39m\u001b[39m.\u001b[39mwait()\n",
      "File \u001b[1;32mc:\\Users\\drive\\anaconda3\\envs\\Manim\\lib\\site-packages\\manim\\scene\\scene.py:1033\u001b[0m, in \u001b[0;36mScene.play\u001b[1;34m(self, subcaption, subcaption_duration, subcaption_offset, *args, **kwargs)\u001b[0m\n\u001b[0;32m   1030\u001b[0m     \u001b[39mreturn\u001b[39;00m\n\u001b[0;32m   1032\u001b[0m start_time \u001b[39m=\u001b[39m \u001b[39mself\u001b[39m\u001b[39m.\u001b[39mrenderer\u001b[39m.\u001b[39mtime\n\u001b[1;32m-> 1033\u001b[0m \u001b[39mself\u001b[39m\u001b[39m.\u001b[39mrenderer\u001b[39m.\u001b[39mplay(\u001b[39mself\u001b[39m, \u001b[39m*\u001b[39margs, \u001b[39m*\u001b[39m\u001b[39m*\u001b[39mkwargs)\n\u001b[0;32m   1034\u001b[0m run_time \u001b[39m=\u001b[39m \u001b[39mself\u001b[39m\u001b[39m.\u001b[39mrenderer\u001b[39m.\u001b[39mtime \u001b[39m-\u001b[39m start_time\n\u001b[0;32m   1035\u001b[0m \u001b[39mif\u001b[39;00m subcaption:\n",
      "File \u001b[1;32mc:\\Users\\drive\\anaconda3\\envs\\Manim\\lib\\site-packages\\manim\\renderer\\cairo_renderer.py:93\u001b[0m, in \u001b[0;36mCairoRenderer.play\u001b[1;34m(self, scene, *args, **kwargs)\u001b[0m\n\u001b[0;32m     87\u001b[0m logger\u001b[39m.\u001b[39mdebug(\n\u001b[0;32m     88\u001b[0m     \u001b[39m\"\u001b[39m\u001b[39mList of the first few animation hashes of the scene: \u001b[39m\u001b[39m%(h)s\u001b[39;00m\u001b[39m\"\u001b[39m,\n\u001b[0;32m     89\u001b[0m     {\u001b[39m\"\u001b[39m\u001b[39mh\u001b[39m\u001b[39m\"\u001b[39m: \u001b[39mstr\u001b[39m(\u001b[39mself\u001b[39m\u001b[39m.\u001b[39manimations_hashes[:\u001b[39m5\u001b[39m])},\n\u001b[0;32m     90\u001b[0m )\n\u001b[0;32m     92\u001b[0m \u001b[39mself\u001b[39m\u001b[39m.\u001b[39mfile_writer\u001b[39m.\u001b[39mbegin_animation(\u001b[39mnot\u001b[39;00m \u001b[39mself\u001b[39m\u001b[39m.\u001b[39mskip_animations)\n\u001b[1;32m---> 93\u001b[0m scene\u001b[39m.\u001b[39;49mbegin_animations()\n\u001b[0;32m     95\u001b[0m \u001b[39m# Save a static image, to avoid rendering non moving objects.\u001b[39;00m\n\u001b[0;32m     96\u001b[0m \u001b[39mself\u001b[39m\u001b[39m.\u001b[39msave_static_frame_data(scene, scene\u001b[39m.\u001b[39mstatic_mobjects)\n",
      "File \u001b[1;32mc:\\Users\\drive\\anaconda3\\envs\\Manim\\lib\\site-packages\\manim\\scene\\scene.py:1163\u001b[0m, in \u001b[0;36mScene.begin_animations\u001b[1;34m(self)\u001b[0m\n\u001b[0;32m   1161\u001b[0m \u001b[39mfor\u001b[39;00m animation \u001b[39min\u001b[39;00m \u001b[39mself\u001b[39m\u001b[39m.\u001b[39manimations:\n\u001b[0;32m   1162\u001b[0m     animation\u001b[39m.\u001b[39m_setup_scene(\u001b[39mself\u001b[39m)\n\u001b[1;32m-> 1163\u001b[0m     animation\u001b[39m.\u001b[39;49mbegin()\n\u001b[0;32m   1165\u001b[0m \u001b[39mif\u001b[39;00m config\u001b[39m.\u001b[39mrenderer \u001b[39m==\u001b[39m RendererType\u001b[39m.\u001b[39mCAIRO:\n\u001b[0;32m   1166\u001b[0m     \u001b[39m# Paint all non-moving objects onto the screen, so they don't\u001b[39;00m\n\u001b[0;32m   1167\u001b[0m     \u001b[39m# have to be rendered every frame\u001b[39;00m\n\u001b[0;32m   1168\u001b[0m     (\n\u001b[0;32m   1169\u001b[0m         \u001b[39mself\u001b[39m\u001b[39m.\u001b[39mmoving_mobjects,\n\u001b[0;32m   1170\u001b[0m         \u001b[39mself\u001b[39m\u001b[39m.\u001b[39mstatic_mobjects,\n\u001b[0;32m   1171\u001b[0m     ) \u001b[39m=\u001b[39m \u001b[39mself\u001b[39m\u001b[39m.\u001b[39mget_moving_and_static_mobjects(\u001b[39mself\u001b[39m\u001b[39m.\u001b[39manimations)\n",
      "File \u001b[1;32mc:\\Users\\drive\\anaconda3\\envs\\Manim\\lib\\site-packages\\manim\\animation\\creation.py:364\u001b[0m, in \u001b[0;36mWrite.begin\u001b[1;34m(self)\u001b[0m\n\u001b[0;32m    362\u001b[0m \u001b[39mif\u001b[39;00m \u001b[39mself\u001b[39m\u001b[39m.\u001b[39mreverse:\n\u001b[0;32m    363\u001b[0m     \u001b[39mself\u001b[39m\u001b[39m.\u001b[39mreverse_submobjects()\n\u001b[1;32m--> 364\u001b[0m \u001b[39msuper\u001b[39;49m()\u001b[39m.\u001b[39;49mbegin()\n",
      "File \u001b[1;32mc:\\Users\\drive\\anaconda3\\envs\\Manim\\lib\\site-packages\\manim\\animation\\creation.py:253\u001b[0m, in \u001b[0;36mDrawBorderThenFill.begin\u001b[1;34m(self)\u001b[0m\n\u001b[0;32m    251\u001b[0m \u001b[39mdef\u001b[39;00m \u001b[39mbegin\u001b[39m(\u001b[39mself\u001b[39m) \u001b[39m-\u001b[39m\u001b[39m>\u001b[39m \u001b[39mNone\u001b[39;00m:\n\u001b[0;32m    252\u001b[0m     \u001b[39mself\u001b[39m\u001b[39m.\u001b[39moutline \u001b[39m=\u001b[39m \u001b[39mself\u001b[39m\u001b[39m.\u001b[39mget_outline()\n\u001b[1;32m--> 253\u001b[0m     \u001b[39msuper\u001b[39;49m()\u001b[39m.\u001b[39;49mbegin()\n",
      "File \u001b[1;32mc:\\Users\\drive\\anaconda3\\envs\\Manim\\lib\\site-packages\\manim\\animation\\animation.py:203\u001b[0m, in \u001b[0;36mAnimation.begin\u001b[1;34m(self)\u001b[0m\n\u001b[0;32m    195\u001b[0m \u001b[39mif\u001b[39;00m \u001b[39mself\u001b[39m\u001b[39m.\u001b[39msuspend_mobject_updating:\n\u001b[0;32m    196\u001b[0m     \u001b[39m# All calls to self.mobject's internal updaters\u001b[39;00m\n\u001b[0;32m    197\u001b[0m     \u001b[39m# during the animation, either from this Animation\u001b[39;00m\n\u001b[1;32m   (...)\u001b[0m\n\u001b[0;32m    200\u001b[0m     \u001b[39m# the internal updaters of self.starting_mobject,\u001b[39;00m\n\u001b[0;32m    201\u001b[0m     \u001b[39m# or any others among self.get_all_mobjects()\u001b[39;00m\n\u001b[0;32m    202\u001b[0m     \u001b[39mself\u001b[39m\u001b[39m.\u001b[39mmobject\u001b[39m.\u001b[39msuspend_updating()\n\u001b[1;32m--> 203\u001b[0m \u001b[39mself\u001b[39;49m\u001b[39m.\u001b[39;49minterpolate(\u001b[39m0\u001b[39;49m)\n",
      "File \u001b[1;32mc:\\Users\\drive\\anaconda3\\envs\\Manim\\lib\\site-packages\\manim\\animation\\animation.py:323\u001b[0m, in \u001b[0;36mAnimation.interpolate\u001b[1;34m(self, alpha)\u001b[0m\n\u001b[0;32m    312\u001b[0m \u001b[39mdef\u001b[39;00m \u001b[39minterpolate\u001b[39m(\u001b[39mself\u001b[39m, alpha: \u001b[39mfloat\u001b[39m) \u001b[39m-\u001b[39m\u001b[39m>\u001b[39m \u001b[39mNone\u001b[39;00m:\n\u001b[0;32m    313\u001b[0m     \u001b[39m\"\"\"Set the animation progress.\u001b[39;00m\n\u001b[0;32m    314\u001b[0m \n\u001b[0;32m    315\u001b[0m \u001b[39m    This method gets called for every frame during an animation.\u001b[39;00m\n\u001b[1;32m   (...)\u001b[0m\n\u001b[0;32m    321\u001b[0m \u001b[39m        the end.\u001b[39;00m\n\u001b[0;32m    322\u001b[0m \u001b[39m    \"\"\"\u001b[39;00m\n\u001b[1;32m--> 323\u001b[0m     \u001b[39mself\u001b[39;49m\u001b[39m.\u001b[39;49minterpolate_mobject(alpha)\n",
      "File \u001b[1;32mc:\\Users\\drive\\anaconda3\\envs\\Manim\\lib\\site-packages\\manim\\animation\\animation.py:337\u001b[0m, in \u001b[0;36mAnimation.interpolate_mobject\u001b[1;34m(self, alpha)\u001b[0m\n\u001b[0;32m    335\u001b[0m families \u001b[39m=\u001b[39m \u001b[39mlist\u001b[39m(\u001b[39mself\u001b[39m\u001b[39m.\u001b[39mget_all_families_zipped())\n\u001b[0;32m    336\u001b[0m \u001b[39mfor\u001b[39;00m i, mobs \u001b[39min\u001b[39;00m \u001b[39menumerate\u001b[39m(families):\n\u001b[1;32m--> 337\u001b[0m     sub_alpha \u001b[39m=\u001b[39m \u001b[39mself\u001b[39;49m\u001b[39m.\u001b[39;49mget_sub_alpha(alpha, i, \u001b[39mlen\u001b[39;49m(families))\n\u001b[0;32m    338\u001b[0m     \u001b[39mself\u001b[39m\u001b[39m.\u001b[39minterpolate_submobject(\u001b[39m*\u001b[39mmobs, sub_alpha)\n",
      "File \u001b[1;32mc:\\Users\\drive\\anaconda3\\envs\\Manim\\lib\\site-packages\\manim\\animation\\animation.py:377\u001b[0m, in \u001b[0;36mAnimation.get_sub_alpha\u001b[1;34m(self, alpha, index, num_submobjects)\u001b[0m\n\u001b[0;32m    375\u001b[0m     \u001b[39mreturn\u001b[39;00m \u001b[39mself\u001b[39m\u001b[39m.\u001b[39mrate_func(\u001b[39m1\u001b[39m \u001b[39m-\u001b[39m (value \u001b[39m-\u001b[39m lower))\n\u001b[0;32m    376\u001b[0m \u001b[39melse\u001b[39;00m:\n\u001b[1;32m--> 377\u001b[0m     \u001b[39mreturn\u001b[39;00m \u001b[39mself\u001b[39;49m\u001b[39m.\u001b[39;49mrate_func(value \u001b[39m-\u001b[39;49m lower)\n",
      "\u001b[1;31mTypeError\u001b[0m: 'MathTex' object is not callable"
     ]
    }
   ],
   "source": [
    "# Cook-Torrance Elements\n",
    "\n",
    "%manim -qm CookTorranceElements\n",
    "\n",
    "class CookTorranceElements(Scene):\n",
    "    def construct(self):\n",
    "        formula1 = Tex(r\"D(h) = \\frac{1}{4m^2 \\cos^4 \\theta _h} exp(- \\frac{\\tan \\theta _h}{m})^2\")\n",
    "        formula2 = Tex(r\"G(\\omega _i, \\omega _r) = min(1, \\frac{2(n.h)(n.\\omega _r)}{\\omega _r.h}, \\frac{2(n.h)(n.\\omega _i)}{\\omega _r.h})\")\n",
    "        formula2.next_to(formula1, DOWN, buff=0.5)\n",
    "        formula3 = Tex(r\"F(\\theta _r) = \\frac{(g-c)^2}{2(g+c)^2}(1+\\frac{(c(g+c)-1)^2}{(c(g-c)+1)^2})\") #c = \\omega _r.h #g = \\eta^2 + c^2 -1\n",
    "        formula3.next_to(formula2, DOWN, buff=0.5)\n",
    "        self.play(Write(formula1, formula2, formula3), run_time=3)\n",
    "        self.wait()"
   ]
  }
 ],
 "metadata": {
  "kernelspec": {
   "display_name": "Python 3",
   "language": "python",
   "name": "python3"
  },
  "language_info": {
   "codemirror_mode": {
    "name": "ipython",
    "version": 3
   },
   "file_extension": ".py",
   "mimetype": "text/x-python",
   "name": "python",
   "nbconvert_exporter": "python",
   "pygments_lexer": "ipython3",
   "version": "3.10.9"
  },
  "orig_nbformat": 4,
  "vscode": {
   "interpreter": {
    "hash": "b9a40f058525f2d65f9906156bda6efa59e0d787a10d236efb1510ab56f2f48e"
   }
  }
 },
 "nbformat": 4,
 "nbformat_minor": 2
}
