{
 "cells": [
  {
   "cell_type": "code",
   "execution_count": null,
   "metadata": {},
   "outputs": [],
   "source": [
    "#Radiance (L)\n",
    "\n",
    "class Radiance(Scene):\n",
    "    def construct(self):\n",
    "        formula = MathTex(r\"L(x,\\omega) \\equiv \\frac{dI(x \\omega)}{dA} = \\frac{d^2 \\Phi (x, \\omega)}{d \\omega dA}\")\n",
    "        self.play(Write(formula, run_time=2))\n",
    "        self.wait()"
   ]
  },
  {
   "cell_type": "code",
   "execution_count": 4,
   "metadata": {},
   "outputs": [
    {
     "name": "stderr",
     "output_type": "stream",
     "text": [
      "UsageError: Line magic function `%%jupyter_manim` not found.\n"
     ]
    }
   ],
   "source": [
    "#Irradiance (E)\n",
    "\n",
    "class Irradiance(Scene):\n",
    "    def construct(self):\n",
    "        formula = MathTex(r\"E(x) = lim _{\\Delta A \\to 0} \\frac{\\Delta \\Phi}{\\Delta A} = \\frac{d \\Phi}{dA}\")\n",
    "        formula2 = MathTex(r\"E(x, \\omega) = L(x, \\omega) \\cos \\theta d\\omega\")\n",
    "        formula2.next_to(formula, DOWN, buff=0.5)\n",
    "        self.play(Write(formula, formula2, run_time=2))\n",
    "        self.wait()"
   ]
  },
  {
   "cell_type": "code",
   "execution_count": null,
   "metadata": {},
   "outputs": [],
   "source": [
    "#Inverse Square Law\n",
    "\n",
    "formula = MathTex(r\"E \\propto \\frac{1}{r^2}\")"
   ]
  },
  {
   "cell_type": "code",
   "execution_count": null,
   "metadata": {},
   "outputs": [],
   "source": [
    "#Lamberts Cosine Law for incoming irradiance\n",
    "\n",
    "formula = MathTex(r\"E(x) +propto \\Phi \\frac{\\cos \\theta}{r^2}\")"
   ]
  },
  {
   "cell_type": "code",
   "execution_count": null,
   "metadata": {},
   "outputs": [],
   "source": [
    "#Radiant Exitance\n",
    "\n",
    "formula = MathTex(r\"M(x) \\equiv \\frac{d \\Phi _O}{dA}\")"
   ]
  },
  {
   "cell_type": "code",
   "execution_count": null,
   "metadata": {},
   "outputs": [],
   "source": [
    "#Radiant Intensity\n",
    "\n",
    "formula = MathTex(r\"I(\\omega) = lim _{\\Delta \\omega \\to 0} \\frac{\\Delta \\Phi}{\\Delta \\omega} = \\frac {d \\Phi}{d \\omega}\")\n",
    "\n",
    "entiresphereformula = MathTex(r\"I = \\frac{\\Phi}{4 \\pi}\")"
   ]
  },
  {
   "cell_type": "code",
   "execution_count": 1,
   "metadata": {},
   "outputs": [
    {
     "ename": "NameError",
     "evalue": "name 'Scene' is not defined",
     "output_type": "error",
     "traceback": [
      "\u001b[1;31m---------------------------------------------------------------------------\u001b[0m",
      "\u001b[1;31mNameError\u001b[0m                                 Traceback (most recent call last)",
      "Cell \u001b[1;32mIn[1], line 3\u001b[0m\n\u001b[0;32m      1\u001b[0m \u001b[39m#BRDF \u001b[39;00m\n\u001b[1;32m----> 3\u001b[0m \u001b[39mclass\u001b[39;00m \u001b[39mBRDF\u001b[39;00m(Scene):\n\u001b[0;32m      4\u001b[0m     \u001b[39mdef\u001b[39;00m \u001b[39mconstruct\u001b[39m(\u001b[39mself\u001b[39m):\n\u001b[0;32m      5\u001b[0m         formula \u001b[39m=\u001b[39m MathTex(\u001b[39mr\u001b[39m\u001b[39m\"\u001b[39m\u001b[39mf_r(\u001b[39m\u001b[39m\\\u001b[39m\u001b[39momega _i, \u001b[39m\u001b[39m\\\u001b[39m\u001b[39momega _r) = \u001b[39m\u001b[39m\\\u001b[39m\u001b[39mfrac \u001b[39m\u001b[39m{\u001b[39m\u001b[39mL_r (\u001b[39m\u001b[39m\\\u001b[39m\u001b[39momega _r)}\u001b[39m\u001b[39m{\u001b[39m\u001b[39mE_i (\u001b[39m\u001b[39m\\\u001b[39m\u001b[39momega _i)} = \u001b[39m\u001b[39m\\\u001b[39m\u001b[39mfrac\u001b[39m\u001b[39m{\u001b[39m\u001b[39mL_r (\u001b[39m\u001b[39m\\\u001b[39m\u001b[39momega _r)}\u001b[39m\u001b[39m{\u001b[39m\u001b[39mL_i (\u001b[39m\u001b[39m\\\u001b[39m\u001b[39momega _i) \u001b[39m\u001b[39m\\\u001b[39m\u001b[39mcos \u001b[39m\u001b[39m\\\u001b[39m\u001b[39mtheta _i d \u001b[39m\u001b[39m\\\u001b[39m\u001b[39momega _i}\u001b[39m\u001b[39m\"\u001b[39m)\n",
      "\u001b[1;31mNameError\u001b[0m: name 'Scene' is not defined"
     ]
    }
   ],
   "source": [
    "#BRDF \n",
    "\n",
    "class BRDF(Scene):\n",
    "    def construct(self):\n",
    "        formula = MathTex(r\"f_r(\\omega _i, \\omega _r) = \\frac {L_r (\\omega _r)}{E_i (\\omega _i)} = \\frac{L_r (\\omega _r)}{L_i (\\omega _i) \\cos \\theta _i d \\omega _i}\")\n",
    "        self.play(Write(formula, run_time=2))\n",
    "        self.wait()"
   ]
  },
  {
   "cell_type": "code",
   "execution_count": null,
   "metadata": {},
   "outputs": [],
   "source": [
    "#Luminance\n",
    "\n",
    "formula = MathTex(r\"Y = \\int _{\\lambda} L(\\lambda) V(\\lambda) d(\\lambda)\")"
   ]
  }
 ],
 "metadata": {
  "kernelspec": {
   "display_name": "Python 3",
   "language": "python",
   "name": "python3"
  },
  "language_info": {
   "codemirror_mode": {
    "name": "ipython",
    "version": 3
   },
   "file_extension": ".py",
   "mimetype": "text/x-python",
   "name": "python",
   "nbconvert_exporter": "python",
   "pygments_lexer": "ipython3",
   "version": "3.10.8"
  },
  "orig_nbformat": 4
 },
 "nbformat": 4,
 "nbformat_minor": 2
}
