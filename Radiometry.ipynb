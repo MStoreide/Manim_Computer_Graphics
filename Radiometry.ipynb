{
 "cells": [
  {
   "cell_type": "code",
   "execution_count": null,
   "metadata": {},
   "outputs": [],
   "source": [
    "#Radiance (L)\n",
    "\n",
    "class Radiance(Scene):\n",
    "    def construct(self):\n",
    "        formula = MathTex(r\"L(x,\\omega) \\equiv \\frac{dI(x \\omega)}{dA} = \\frac{d^2 \\Phi (x, \\omega)}{d \\omega dA}\")\n",
    "        self.play(Write(formula, run_time=2))\n",
    "        self.wait()"
   ]
  },
  {
   "cell_type": "code",
   "execution_count": null,
   "metadata": {},
   "outputs": [],
   "source": [
    "#Irradiance (E)\n",
    "\n",
    "class Irradiance(Scene):\n",
    "    def construct(self):\n",
    "        formula = MathTex(r\"E(x) = lim _{\\Delta A \\to 0} \\frac{\\Delta \\Phi}{\\Delta A} = \\frac{d \\Phi}{dA}\")\n",
    "        formula2 = MathTex(r\"E(x, \\omega) = L(x, \\omega) \\cos \\theta d\\omega\")\n",
    "        formula2.next_to(formula, DOWN, buff=0.5)\n",
    "        self.play(Write(formula, formula2, run_time=2))\n",
    "        self.wait()"
   ]
  },
  {
   "cell_type": "code",
   "execution_count": null,
   "metadata": {},
   "outputs": [],
   "source": [
    "#Inverse Square Law\n",
    "\n",
    "formula = MathTex(r\"E \\propto \\frac{1}{r^2}\")"
   ]
  },
  {
   "cell_type": "code",
   "execution_count": null,
   "metadata": {},
   "outputs": [],
   "source": [
    "#Lamberts Cosine Law for incoming irradiance\n",
    "\n",
    "formula = MathTex(r\"E(x) +propto \\Phi \\frac{\\cos \\theta}{r^2}\")"
   ]
  },
  {
   "cell_type": "code",
   "execution_count": null,
   "metadata": {},
   "outputs": [],
   "source": [
    "#Radiant Exitance\n",
    "\n",
    "formula = MathTex(r\"M(x) \\equiv \\frac{d \\Phi _O}{dA}\")"
   ]
  },
  {
   "cell_type": "code",
   "execution_count": null,
   "metadata": {},
   "outputs": [],
   "source": [
    "#Radiant Intensity\n",
    "\n",
    "formula = MathTex(r\"I(\\omega) = lim _{\\Delta \\omega \\to 0} \\frac{\\Delta \\Phi}{\\Delta \\omega} = \\frac {d \\Phi}{d \\omega}\")\n",
    "\n",
    "entiresphereformula = MathTex(r\"I = \\frac{\\Phi}{4 \\pi}\")"
   ]
  },
  {
   "cell_type": "code",
   "execution_count": null,
   "metadata": {},
   "outputs": [],
   "source": [
    "#BRDF \n",
    "\n",
    "class BRDF(Scene):\n",
    "    def construct(self):\n",
    "        formula = MathTex(r\"f_r(\\omega _i, \\omega _r) = \\frac {L_r (\\omega _r)}{E_i (\\omega _i)} = \\frac{L_r (\\omega _r)}{L_i (\\omega _i) \\cos \\theta _i d \\omega _i}\")\n",
    "        self.play(Write(formula, run_time=2))\n",
    "        self.wait()"
   ]
  }
 ],
 "metadata": {
  "language_info": {
   "name": "python"
  },
  "orig_nbformat": 4
 },
 "nbformat": 4,
 "nbformat_minor": 2
}
