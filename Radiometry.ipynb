{
 "cells": [
  {
   "cell_type": "code",
   "execution_count": null,
   "metadata": {},
   "outputs": [],
   "source": [
    "#Radiance (L)\n",
    "\n",
    "class Radiance(Scene):\n",
    "    def construct(self):\n",
    "        formula = MathTex(r\"L(x,\\omega) \\equiv \\frac{dI(x \\omega)}{dA} = \\frac{d^2 \\Phi (x, \\omega)}{d \\omega dA}\")\n",
    "        self.play(Write(formula, run_time=2))\n",
    "        self.wait()"
   ]
  },
  {
   "cell_type": "code",
   "execution_count": null,
   "metadata": {},
   "outputs": [],
   "source": [
    "#Irradiance (E)\n",
    "\n",
    "class Irradiance(Scene):\n",
    "    def construct(self):\n",
    "        formula = MathTex(r\"E(x) = lim _{\\Delta A \\to 0} \\frac{\\Delta \\Phi}{\\Delta A} = \\frac{d \\Phi}{dA}\")\n",
    "        formula2 = MathTex(r\"E(x, \\omega) = L(x, \\omega) \\cos \\theta d\\omega\")\n",
    "        formula2.next_to(formula, DOWN, buff=0.5)\n",
    "        self.play(Write(formula, formula2, run_time=2))\n",
    "        self.wait()"
   ]
  },
  {
   "cell_type": "code",
   "execution_count": null,
   "metadata": {},
   "outputs": [],
   "source": [
    "#BRDF \n",
    "\n",
    "class BRDF(Scene):\n",
    "    def construct(self):\n",
    "        formula = MathTex(r\"f_r(\\omega _i, \\omega _r) = \\frac {L_r (\\omega _r)}{E_i (\\omega _i)} = \\frac{L_r (\\omega _r)}{L_i (\\omega _i) \\cos \\theta _i d \\omega _i}\")\n",
    "        self.play(Write(formula, run_time=2))\n",
    "        self.wait()"
   ]
  }
 ],
 "metadata": {
  "language_info": {
   "name": "python"
  },
  "orig_nbformat": 4
 },
 "nbformat": 4,
 "nbformat_minor": 2
}
