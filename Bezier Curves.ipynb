{
 "cells": [
  {
   "cell_type": "code",
   "execution_count": null,
   "metadata": {},
   "outputs": [],
   "source": [
    "#Cubic Bézier Curve Formula\n",
    "\n",
    "from manim import *\n",
    "\n",
    "class CubicBezier(Scene):\n",
    "    def construct(self):\n",
    "        formula = MathTex(r\"B(t) = (1-t)^3 p_0 + 3t(1-t)^2 p_1 + 3t^2(1-t) p_2 + t^3 p_3\")\n",
    "        self.play(Write(formula), run_time=1)\n",
    "        self.wait()"
   ]
  },
  {
   "cell_type": "code",
   "execution_count": null,
   "metadata": {},
   "outputs": [],
   "source": [
    "#General form n-th order Bézier\n",
    "\n",
    "formula = MathTex(r\"B(t) = \\sum_{i=0}^n (ni)(1-t)^n-i t^i p_i\")"
   ]
  },
  {
   "cell_type": "code",
   "execution_count": null,
   "metadata": {},
   "outputs": [],
   "source": [
    "#Bernstein Polynomial\n",
    "\n",
    "formula = MathTex(r\"B(t) = (1-t)^3 p_0 + 3t(1-t)^2 p_1 + 3t^2 (1-t)p_2 + t^3 p_3\")"
   ]
  }
 ],
 "metadata": {
  "language_info": {
   "name": "python"
  },
  "orig_nbformat": 4
 },
 "nbformat": 4,
 "nbformat_minor": 2
}
