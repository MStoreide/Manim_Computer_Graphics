{
 "cells": [
  {
   "cell_type": "code",
   "execution_count": 2,
   "metadata": {},
   "outputs": [
    {
     "ename": "ModuleNotFoundError",
     "evalue": "No module named 'manim'",
     "output_type": "error",
     "traceback": [
      "\u001b[1;31m---------------------------------------------------------------------------\u001b[0m",
      "\u001b[1;31mModuleNotFoundError\u001b[0m                       Traceback (most recent call last)",
      "\u001b[1;32m~\\AppData\\Local\\Temp\\ipykernel_21000\\3504537166.py\u001b[0m in \u001b[0;36m<module>\u001b[1;34m\u001b[0m\n\u001b[1;32m----> 1\u001b[1;33m \u001b[1;32mfrom\u001b[0m \u001b[0mmanim\u001b[0m \u001b[1;32mimport\u001b[0m \u001b[1;33m*\u001b[0m\u001b[1;33m\u001b[0m\u001b[1;33m\u001b[0m\u001b[0m\n\u001b[0m\u001b[0;32m      2\u001b[0m \u001b[1;31m#This will just check the manim version\u001b[0m\u001b[1;33m\u001b[0m\u001b[1;33m\u001b[0m\u001b[1;33m\u001b[0m\u001b[0m\n\u001b[0;32m      3\u001b[0m \u001b[0mconfig\u001b[0m\u001b[1;33m.\u001b[0m\u001b[0mmedia_width\u001b[0m \u001b[1;33m=\u001b[0m \u001b[1;34m\"75%\"\u001b[0m\u001b[1;33m\u001b[0m\u001b[1;33m\u001b[0m\u001b[0m\n\u001b[0;32m      4\u001b[0m \u001b[0mconfig\u001b[0m\u001b[1;33m.\u001b[0m\u001b[0mverbosity\u001b[0m \u001b[1;33m=\u001b[0m \u001b[1;34m\"WARNING\"\u001b[0m\u001b[1;33m\u001b[0m\u001b[1;33m\u001b[0m\u001b[0m\n",
      "\u001b[1;31mModuleNotFoundError\u001b[0m: No module named 'manim'"
     ]
    }
   ],
   "source": [
    "from manim import *\n",
    "#This will just check the manim version\n",
    "config.media_width = \"75%\"\n",
    "config.verbosity = \"WARNING\""
   ]
  },
  {
   "cell_type": "code",
   "execution_count": 1,
   "metadata": {},
   "outputs": [
    {
     "name": "stderr",
     "output_type": "stream",
     "text": [
      "UsageError: Cell magic `%%manim` not found.\n"
     ]
    }
   ],
   "source": [
    "%%manim -qm CircleToSquare\n",
    "\n",
    "class CircleToSquare(Scene):\n",
    "    def construct(self):\n",
    "        blue_circle = Circle(color=BLUE, fill_opacity=0.5)\n",
    "        green_square = Square(color=GREEN, fill_opacity=0.8)\n",
    "        self.play(Create(blue_circle))\n",
    "        self.wait()\n",
    "        \n",
    "        self.play(Transform(blue_circle, green_square))\n",
    "        self.wait()"
   ]
  },
  {
   "cell_type": "code",
   "execution_count": 7,
   "metadata": {},
   "outputs": [
    {
     "ename": "RuntimeError",
     "evalue": "latex failed but did not produce a log file. Check your LaTeX installation.",
     "output_type": "error",
     "traceback": [
      "\u001b[1;31m---------------------------------------------------------------------------\u001b[0m",
      "\u001b[1;31mRuntimeError\u001b[0m                              Traceback (most recent call last)",
      "Cell \u001b[1;32mIn[7], line 1\u001b[0m\n\u001b[1;32m----> 1\u001b[0m get_ipython()\u001b[39m.\u001b[39;49mrun_cell_magic(\u001b[39m'\u001b[39;49m\u001b[39mmanim\u001b[39;49m\u001b[39m'\u001b[39;49m, \u001b[39m'\u001b[39;49m\u001b[39m-qm OpeningManim\u001b[39;49m\u001b[39m'\u001b[39;49m, \u001b[39m'\u001b[39;49m\u001b[39m\\n\u001b[39;49;00m\u001b[39mclass OpeningManim(Scene):\u001b[39;49m\u001b[39m\\n\u001b[39;49;00m\u001b[39m    def construct(self):\u001b[39;49m\u001b[39m\\n\u001b[39;49;00m\u001b[39m        title = Tex(r\u001b[39;49m\u001b[39m\"\u001b[39;49m\u001b[39mThis is some \u001b[39;49m\u001b[39m\\\\\u001b[39;49;00m\u001b[39mLaTeX\u001b[39;49m\u001b[39m\"\u001b[39;49m\u001b[39m)\u001b[39;49m\u001b[39m\\n\u001b[39;49;00m\u001b[39m        basel = MathTex(r\u001b[39;49m\u001b[39m\"\u001b[39;49m\u001b[39m\\\\\u001b[39;49;00m\u001b[39msum_\u001b[39;49m\u001b[39m{\u001b[39;49m\u001b[39mn=1}^\u001b[39;49m\u001b[39m\\\\\u001b[39;49;00m\u001b[39minfty \u001b[39;49m\u001b[39m\\\\\u001b[39;49;00m\u001b[39mfrac\u001b[39;49m\u001b[39m{1}\u001b[39;49;00m\u001b[39m{\u001b[39;49m\u001b[39mn^2} = \u001b[39;49m\u001b[39m\\\\\u001b[39;49;00m\u001b[39mfrac\u001b[39;49m\u001b[39m{\u001b[39;49m\u001b[39m\\\\\u001b[39;49;00m\u001b[39mpi^2}\u001b[39;49m\u001b[39m{6}\u001b[39;49;00m\u001b[39m\"\u001b[39;49m\u001b[39m)\u001b[39;49m\u001b[39m\\n\u001b[39;49;00m\u001b[39m        VGroup(title, basel).arrange(DOWN)\u001b[39;49m\u001b[39m\\n\u001b[39;49;00m\u001b[39m        self.play(\u001b[39;49m\u001b[39m\\n\u001b[39;49;00m\u001b[39m            Write(title),\u001b[39;49m\u001b[39m\\n\u001b[39;49;00m\u001b[39m            FadeIn(basel, shift=UP),\u001b[39;49m\u001b[39m\\n\u001b[39;49;00m\u001b[39m        )\u001b[39;49m\u001b[39m\\n\u001b[39;49;00m\u001b[39m        self.wait()\u001b[39;49m\u001b[39m\\n\u001b[39;49;00m\u001b[39m\\n\u001b[39;49;00m\u001b[39m        transform_title = Tex(\u001b[39;49m\u001b[39m\"\u001b[39;49m\u001b[39mThat was a transform\u001b[39;49m\u001b[39m\"\u001b[39;49m\u001b[39m)\u001b[39;49m\u001b[39m\\n\u001b[39;49;00m\u001b[39m        transform_title.to_corner(UP + LEFT)\u001b[39;49m\u001b[39m\\n\u001b[39;49;00m\u001b[39m        self.play(\u001b[39;49m\u001b[39m\\n\u001b[39;49;00m\u001b[39m            Transform(title, transform_title),\u001b[39;49m\u001b[39m\\n\u001b[39;49;00m\u001b[39m            LaggedStart(*[FadeOut(obj, shift=DOWN) for obj in basel]),\u001b[39;49m\u001b[39m\\n\u001b[39;49;00m\u001b[39m        )\u001b[39;49m\u001b[39m\\n\u001b[39;49;00m\u001b[39m        self.wait()\u001b[39;49m\u001b[39m\\n\u001b[39;49;00m\u001b[39m\\n\u001b[39;49;00m\u001b[39m        grid = NumberPlane(x_range=(-10, 10, 1), y_range=(-6.0, 6.0, 1))\u001b[39;49m\u001b[39m\\n\u001b[39;49;00m\u001b[39m        grid_title = Tex(\u001b[39;49m\u001b[39m\"\u001b[39;49m\u001b[39mThis is a grid\u001b[39;49m\u001b[39m\"\u001b[39;49m\u001b[39m)\u001b[39;49m\u001b[39m\\n\u001b[39;49;00m\u001b[39m        grid_title.scale(1.5)\u001b[39;49m\u001b[39m\\n\u001b[39;49;00m\u001b[39m        grid_title.move_to(transform_title)\u001b[39;49m\u001b[39m\\n\u001b[39;49;00m\u001b[39m\\n\u001b[39;49;00m\u001b[39m        self.add(grid, grid_title)\u001b[39;49m\u001b[39m\\n\u001b[39;49;00m\u001b[39m        self.play(\u001b[39;49m\u001b[39m\\n\u001b[39;49;00m\u001b[39m            FadeOut(title),\u001b[39;49m\u001b[39m\\n\u001b[39;49;00m\u001b[39m            FadeIn(grid_title, shift=DOWN),\u001b[39;49m\u001b[39m\\n\u001b[39;49;00m\u001b[39m            Create(grid, run_time=3, lag_ratio=0.1),\u001b[39;49m\u001b[39m\\n\u001b[39;49;00m\u001b[39m        )\u001b[39;49m\u001b[39m\\n\u001b[39;49;00m\u001b[39m        self.wait()\u001b[39;49m\u001b[39m\\n\u001b[39;49;00m\u001b[39m\\n\u001b[39;49;00m\u001b[39m        grid_transform_title = Tex(\u001b[39;49m\u001b[39m\\n\u001b[39;49;00m\u001b[39m            r\u001b[39;49m\u001b[39m\"\u001b[39;49m\u001b[39mThat was a non-linear function \u001b[39;49m\u001b[39m\\\\\u001b[39;49;00m\u001b[39m\\\\\u001b[39;49;00m\u001b[39m applied to the grid\u001b[39;49m\u001b[39m\"\u001b[39;49m\u001b[39m\\n\u001b[39;49;00m\u001b[39m        )\u001b[39;49m\u001b[39m\\n\u001b[39;49;00m\u001b[39m        grid_transform_title.move_to(grid_title, UL)\u001b[39;49m\u001b[39m\\n\u001b[39;49;00m\u001b[39m        grid.prepare_for_nonlinear_transform()\u001b[39;49m\u001b[39m\\n\u001b[39;49;00m\u001b[39m        self.play(\u001b[39;49m\u001b[39m\\n\u001b[39;49;00m\u001b[39m            grid.animate.apply_function(\u001b[39;49m\u001b[39m\\n\u001b[39;49;00m\u001b[39m                lambda p: p + np.array([np.sin(p[1]), np.sin(p[0]), 0])\u001b[39;49m\u001b[39m\\n\u001b[39;49;00m\u001b[39m            ),\u001b[39;49m\u001b[39m\\n\u001b[39;49;00m\u001b[39m            run_time=3,\u001b[39;49m\u001b[39m\\n\u001b[39;49;00m\u001b[39m        )\u001b[39;49m\u001b[39m\\n\u001b[39;49;00m\u001b[39m        self.wait()\u001b[39;49m\u001b[39m\\n\u001b[39;49;00m\u001b[39m        self.play(Transform(grid_title, grid_transform_title))\u001b[39;49m\u001b[39m\\n\u001b[39;49;00m\u001b[39m        self.wait()\u001b[39;49m\u001b[39m\\n\u001b[39;49;00m\u001b[39m'\u001b[39;49m)\n",
      "File \u001b[1;32mc:\\Users\\drive\\AppData\\Local\\Programs\\Python\\Python310\\lib\\site-packages\\IPython\\core\\interactiveshell.py:2430\u001b[0m, in \u001b[0;36mInteractiveShell.run_cell_magic\u001b[1;34m(self, magic_name, line, cell)\u001b[0m\n\u001b[0;32m   2428\u001b[0m \u001b[39mwith\u001b[39;00m \u001b[39mself\u001b[39m\u001b[39m.\u001b[39mbuiltin_trap:\n\u001b[0;32m   2429\u001b[0m     args \u001b[39m=\u001b[39m (magic_arg_s, cell)\n\u001b[1;32m-> 2430\u001b[0m     result \u001b[39m=\u001b[39m fn(\u001b[39m*\u001b[39margs, \u001b[39m*\u001b[39m\u001b[39m*\u001b[39mkwargs)\n\u001b[0;32m   2432\u001b[0m \u001b[39m# The code below prevents the output from being displayed\u001b[39;00m\n\u001b[0;32m   2433\u001b[0m \u001b[39m# when using magics with decodator @output_can_be_silenced\u001b[39;00m\n\u001b[0;32m   2434\u001b[0m \u001b[39m# when the last Python token in the expression is a ';'.\u001b[39;00m\n\u001b[0;32m   2435\u001b[0m \u001b[39mif\u001b[39;00m \u001b[39mgetattr\u001b[39m(fn, magic\u001b[39m.\u001b[39mMAGIC_OUTPUT_CAN_BE_SILENCED, \u001b[39mFalse\u001b[39;00m):\n",
      "File \u001b[1;32mc:\\Users\\drive\\AppData\\Local\\Programs\\Python\\Python310\\lib\\site-packages\\manim\\utils\\ipython_magic.py:141\u001b[0m, in \u001b[0;36mManimMagic.manim\u001b[1;34m(self, line, cell, local_ns)\u001b[0m\n\u001b[0;32m    139\u001b[0m     SceneClass \u001b[39m=\u001b[39m local_ns[config[\u001b[39m\"\u001b[39m\u001b[39mscene_names\u001b[39m\u001b[39m\"\u001b[39m][\u001b[39m0\u001b[39m]]\n\u001b[0;32m    140\u001b[0m     scene \u001b[39m=\u001b[39m SceneClass(renderer\u001b[39m=\u001b[39mrenderer)\n\u001b[1;32m--> 141\u001b[0m     scene\u001b[39m.\u001b[39;49mrender()\n\u001b[0;32m    142\u001b[0m \u001b[39mfinally\u001b[39;00m:\n\u001b[0;32m    143\u001b[0m     \u001b[39m# Shader cache becomes invalid as the context is destroyed\u001b[39;00m\n\u001b[0;32m    144\u001b[0m     shader_program_cache\u001b[39m.\u001b[39mclear()\n",
      "File \u001b[1;32mc:\\Users\\drive\\AppData\\Local\\Programs\\Python\\Python310\\lib\\site-packages\\manim\\scene\\scene.py:223\u001b[0m, in \u001b[0;36mScene.render\u001b[1;34m(self, preview)\u001b[0m\n\u001b[0;32m    221\u001b[0m \u001b[39mself\u001b[39m\u001b[39m.\u001b[39msetup()\n\u001b[0;32m    222\u001b[0m \u001b[39mtry\u001b[39;00m:\n\u001b[1;32m--> 223\u001b[0m     \u001b[39mself\u001b[39;49m\u001b[39m.\u001b[39;49mconstruct()\n\u001b[0;32m    224\u001b[0m \u001b[39mexcept\u001b[39;00m EndSceneEarlyException:\n\u001b[0;32m    225\u001b[0m     \u001b[39mpass\u001b[39;00m\n",
      "File \u001b[1;32m<string>:4\u001b[0m, in \u001b[0;36mconstruct\u001b[1;34m(self)\u001b[0m\n",
      "File \u001b[1;32mc:\\Users\\drive\\AppData\\Local\\Programs\\Python\\Python310\\lib\\site-packages\\manim\\mobject\\text\\tex_mobject.py:427\u001b[0m, in \u001b[0;36mTex.__init__\u001b[1;34m(self, arg_separator, tex_environment, *tex_strings, **kwargs)\u001b[0m\n\u001b[0;32m    424\u001b[0m \u001b[39mdef\u001b[39;00m \u001b[39m__init__\u001b[39m(\n\u001b[0;32m    425\u001b[0m     \u001b[39mself\u001b[39m, \u001b[39m*\u001b[39mtex_strings, arg_separator\u001b[39m=\u001b[39m\u001b[39m\"\u001b[39m\u001b[39m\"\u001b[39m, tex_environment\u001b[39m=\u001b[39m\u001b[39m\"\u001b[39m\u001b[39mcenter\u001b[39m\u001b[39m\"\u001b[39m, \u001b[39m*\u001b[39m\u001b[39m*\u001b[39mkwargs\n\u001b[0;32m    426\u001b[0m ):\n\u001b[1;32m--> 427\u001b[0m     \u001b[39msuper\u001b[39m()\u001b[39m.\u001b[39m\u001b[39m__init__\u001b[39m(\n\u001b[0;32m    428\u001b[0m         \u001b[39m*\u001b[39mtex_strings,\n\u001b[0;32m    429\u001b[0m         arg_separator\u001b[39m=\u001b[39marg_separator,\n\u001b[0;32m    430\u001b[0m         tex_environment\u001b[39m=\u001b[39mtex_environment,\n\u001b[0;32m    431\u001b[0m         \u001b[39m*\u001b[39m\u001b[39m*\u001b[39mkwargs,\n\u001b[0;32m    432\u001b[0m     )\n",
      "File \u001b[1;32mc:\\Users\\drive\\AppData\\Local\\Programs\\Python\\Python310\\lib\\site-packages\\manim\\mobject\\text\\tex_mobject.py:275\u001b[0m, in \u001b[0;36mMathTex.__init__\u001b[1;34m(self, arg_separator, substrings_to_isolate, tex_to_color_map, tex_environment, *tex_strings, **kwargs)\u001b[0m\n\u001b[0;32m    273\u001b[0m \u001b[39mself\u001b[39m\u001b[39m.\u001b[39mtex_strings \u001b[39m=\u001b[39m \u001b[39mself\u001b[39m\u001b[39m.\u001b[39m_break_up_tex_strings(tex_strings)\n\u001b[0;32m    274\u001b[0m \u001b[39mtry\u001b[39;00m:\n\u001b[1;32m--> 275\u001b[0m     \u001b[39msuper\u001b[39m()\u001b[39m.\u001b[39m\u001b[39m__init__\u001b[39m(\n\u001b[0;32m    276\u001b[0m         \u001b[39mself\u001b[39m\u001b[39m.\u001b[39marg_separator\u001b[39m.\u001b[39mjoin(\u001b[39mself\u001b[39m\u001b[39m.\u001b[39mtex_strings),\n\u001b[0;32m    277\u001b[0m         tex_environment\u001b[39m=\u001b[39m\u001b[39mself\u001b[39m\u001b[39m.\u001b[39mtex_environment,\n\u001b[0;32m    278\u001b[0m         tex_template\u001b[39m=\u001b[39m\u001b[39mself\u001b[39m\u001b[39m.\u001b[39mtex_template,\n\u001b[0;32m    279\u001b[0m         \u001b[39m*\u001b[39m\u001b[39m*\u001b[39mkwargs,\n\u001b[0;32m    280\u001b[0m     )\n\u001b[0;32m    281\u001b[0m     \u001b[39mself\u001b[39m\u001b[39m.\u001b[39m_break_up_by_substrings()\n\u001b[0;32m    282\u001b[0m \u001b[39mexcept\u001b[39;00m \u001b[39mValueError\u001b[39;00m \u001b[39mas\u001b[39;00m compilation_error:\n",
      "File \u001b[1;32mc:\\Users\\drive\\AppData\\Local\\Programs\\Python\\Python310\\lib\\site-packages\\manim\\mobject\\text\\tex_mobject.py:84\u001b[0m, in \u001b[0;36mSingleStringMathTex.__init__\u001b[1;34m(self, tex_string, stroke_width, should_center, height, organize_left_to_right, tex_environment, tex_template, font_size, **kwargs)\u001b[0m\n\u001b[0;32m     82\u001b[0m \u001b[39massert\u001b[39;00m \u001b[39misinstance\u001b[39m(tex_string, \u001b[39mstr\u001b[39m)\n\u001b[0;32m     83\u001b[0m \u001b[39mself\u001b[39m\u001b[39m.\u001b[39mtex_string \u001b[39m=\u001b[39m tex_string\n\u001b[1;32m---> 84\u001b[0m file_name \u001b[39m=\u001b[39m tex_to_svg_file(\n\u001b[0;32m     85\u001b[0m     \u001b[39mself\u001b[39;49m\u001b[39m.\u001b[39;49m_get_modified_expression(tex_string),\n\u001b[0;32m     86\u001b[0m     environment\u001b[39m=\u001b[39;49m\u001b[39mself\u001b[39;49m\u001b[39m.\u001b[39;49mtex_environment,\n\u001b[0;32m     87\u001b[0m     tex_template\u001b[39m=\u001b[39;49m\u001b[39mself\u001b[39;49m\u001b[39m.\u001b[39;49mtex_template,\n\u001b[0;32m     88\u001b[0m )\n\u001b[0;32m     89\u001b[0m \u001b[39msuper\u001b[39m()\u001b[39m.\u001b[39m\u001b[39m__init__\u001b[39m(\n\u001b[0;32m     90\u001b[0m     file_name\u001b[39m=\u001b[39mfile_name,\n\u001b[0;32m     91\u001b[0m     should_center\u001b[39m=\u001b[39mshould_center,\n\u001b[1;32m   (...)\u001b[0m\n\u001b[0;32m     98\u001b[0m     \u001b[39m*\u001b[39m\u001b[39m*\u001b[39mkwargs,\n\u001b[0;32m     99\u001b[0m )\n\u001b[0;32m    100\u001b[0m \u001b[39mself\u001b[39m\u001b[39m.\u001b[39minit_colors()\n",
      "File \u001b[1;32mc:\\Users\\drive\\AppData\\Local\\Programs\\Python\\Python310\\lib\\site-packages\\manim\\utils\\tex_file_writing.py:54\u001b[0m, in \u001b[0;36mtex_to_svg_file\u001b[1;34m(expression, environment, tex_template)\u001b[0m\n\u001b[0;32m     52\u001b[0m     tex_template \u001b[39m=\u001b[39m config[\u001b[39m\"\u001b[39m\u001b[39mtex_template\u001b[39m\u001b[39m\"\u001b[39m]\n\u001b[0;32m     53\u001b[0m tex_file \u001b[39m=\u001b[39m generate_tex_file(expression, environment, tex_template)\n\u001b[1;32m---> 54\u001b[0m dvi_file \u001b[39m=\u001b[39m compile_tex(\n\u001b[0;32m     55\u001b[0m     tex_file,\n\u001b[0;32m     56\u001b[0m     tex_template\u001b[39m.\u001b[39;49mtex_compiler,\n\u001b[0;32m     57\u001b[0m     tex_template\u001b[39m.\u001b[39;49moutput_format,\n\u001b[0;32m     58\u001b[0m )\n\u001b[0;32m     59\u001b[0m \u001b[39mreturn\u001b[39;00m convert_to_svg(dvi_file, tex_template\u001b[39m.\u001b[39moutput_format)\n",
      "File \u001b[1;32mc:\\Users\\drive\\AppData\\Local\\Programs\\Python\\Python310\\lib\\site-packages\\manim\\utils\\tex_file_writing.py:200\u001b[0m, in \u001b[0;36mcompile_tex\u001b[1;34m(tex_file, tex_compiler, output_format)\u001b[0m\n\u001b[0;32m    198\u001b[0m     \u001b[39mif\u001b[39;00m exit_code \u001b[39m!=\u001b[39m \u001b[39m0\u001b[39m:\n\u001b[0;32m    199\u001b[0m         log_file \u001b[39m=\u001b[39m tex_file\u001b[39m.\u001b[39mwith_suffix(\u001b[39m\"\u001b[39m\u001b[39m.log\u001b[39m\u001b[39m\"\u001b[39m)\n\u001b[1;32m--> 200\u001b[0m         print_all_tex_errors(log_file, tex_compiler, tex_file)\n\u001b[0;32m    201\u001b[0m         \u001b[39mraise\u001b[39;00m \u001b[39mValueError\u001b[39;00m(\n\u001b[0;32m    202\u001b[0m             \u001b[39mf\u001b[39m\u001b[39m\"\u001b[39m\u001b[39m{\u001b[39;00mtex_compiler\u001b[39m}\u001b[39;00m\u001b[39m error converting to\u001b[39m\u001b[39m\"\u001b[39m\n\u001b[0;32m    203\u001b[0m             \u001b[39mf\u001b[39m\u001b[39m\"\u001b[39m\u001b[39m \u001b[39m\u001b[39m{\u001b[39;00moutput_format[\u001b[39m1\u001b[39m:]\u001b[39m}\u001b[39;00m\u001b[39m. See log output above or\u001b[39m\u001b[39m\"\u001b[39m\n\u001b[0;32m    204\u001b[0m             \u001b[39mf\u001b[39m\u001b[39m\"\u001b[39m\u001b[39m the log file: \u001b[39m\u001b[39m{\u001b[39;00mlog_file\u001b[39m}\u001b[39;00m\u001b[39m\"\u001b[39m,\n\u001b[0;32m    205\u001b[0m         )\n\u001b[0;32m    206\u001b[0m \u001b[39mreturn\u001b[39;00m result\n",
      "File \u001b[1;32mc:\\Users\\drive\\AppData\\Local\\Programs\\Python\\Python310\\lib\\site-packages\\manim\\utils\\tex_file_writing.py:255\u001b[0m, in \u001b[0;36mprint_all_tex_errors\u001b[1;34m(log_file, tex_compiler, tex_file)\u001b[0m\n\u001b[0;32m    253\u001b[0m \u001b[39mdef\u001b[39;00m \u001b[39mprint_all_tex_errors\u001b[39m(log_file: Path, tex_compiler: \u001b[39mstr\u001b[39m, tex_file: Path) \u001b[39m-\u001b[39m\u001b[39m>\u001b[39m \u001b[39mNone\u001b[39;00m:\n\u001b[0;32m    254\u001b[0m     \u001b[39mif\u001b[39;00m \u001b[39mnot\u001b[39;00m log_file\u001b[39m.\u001b[39mexists():\n\u001b[1;32m--> 255\u001b[0m         \u001b[39mraise\u001b[39;00m \u001b[39mRuntimeError\u001b[39;00m(\n\u001b[0;32m    256\u001b[0m             \u001b[39mf\u001b[39m\u001b[39m\"\u001b[39m\u001b[39m{\u001b[39;00mtex_compiler\u001b[39m}\u001b[39;00m\u001b[39m failed but did not produce a log file. \u001b[39m\u001b[39m\"\u001b[39m\n\u001b[0;32m    257\u001b[0m             \u001b[39m\"\u001b[39m\u001b[39mCheck your LaTeX installation.\u001b[39m\u001b[39m\"\u001b[39m,\n\u001b[0;32m    258\u001b[0m         )\n\u001b[0;32m    259\u001b[0m     \u001b[39mwith\u001b[39;00m log_file\u001b[39m.\u001b[39mopen(encoding\u001b[39m=\u001b[39m\u001b[39m\"\u001b[39m\u001b[39mutf-8\u001b[39m\u001b[39m\"\u001b[39m) \u001b[39mas\u001b[39;00m f:\n\u001b[0;32m    260\u001b[0m         tex_compilation_log \u001b[39m=\u001b[39m f\u001b[39m.\u001b[39mreadlines()\n",
      "\u001b[1;31mRuntimeError\u001b[0m: latex failed but did not produce a log file. Check your LaTeX installation."
     ]
    }
   ],
   "source": [
    "%%manim -qm OpeningManim\n",
    "\n",
    "class OpeningManim(Scene):\n",
    "    def construct(self):\n",
    "        title = Tex(r\"This is some \\LaTeX\")\n",
    "        basel = MathTex(r\"\\sum_{n=1}^\\infty \\frac{1}{n^2} = \\frac{\\pi^2}{6}\")\n",
    "        VGroup(title, basel).arrange(DOWN)\n",
    "        self.play(\n",
    "            Write(title),\n",
    "            FadeIn(basel, shift=UP),\n",
    "        )\n",
    "        self.wait()\n",
    "\n",
    "        transform_title = Tex(\"That was a transform\")\n",
    "        transform_title.to_corner(UP + LEFT)\n",
    "        self.play(\n",
    "            Transform(title, transform_title),\n",
    "            LaggedStart(*[FadeOut(obj, shift=DOWN) for obj in basel]),\n",
    "        )\n",
    "        self.wait()\n",
    "\n",
    "        grid = NumberPlane(x_range=(-10, 10, 1), y_range=(-6.0, 6.0, 1))\n",
    "        grid_title = Tex(\"This is a grid\")\n",
    "        grid_title.scale(1.5)\n",
    "        grid_title.move_to(transform_title)\n",
    "\n",
    "        self.add(grid, grid_title)\n",
    "        self.play(\n",
    "            FadeOut(title),\n",
    "            FadeIn(grid_title, shift=DOWN),\n",
    "            Create(grid, run_time=3, lag_ratio=0.1),\n",
    "        )\n",
    "        self.wait()\n",
    "\n",
    "        grid_transform_title = Tex(\n",
    "            r\"That was a non-linear function \\\\ applied to the grid\"\n",
    "        )\n",
    "        grid_transform_title.move_to(grid_title, UL)\n",
    "        grid.prepare_for_nonlinear_transform()\n",
    "        self.play(\n",
    "            grid.animate.apply_function(\n",
    "                lambda p: p + np.array([np.sin(p[1]), np.sin(p[0]), 0])\n",
    "            ),\n",
    "            run_time=3,\n",
    "        )\n",
    "        self.wait()\n",
    "        self.play(Transform(grid_title, grid_transform_title))\n",
    "        self.wait()"
   ]
  }
 ],
 "metadata": {
  "kernelspec": {
   "display_name": "Python 3",
   "language": "python",
   "name": "python3"
  },
  "language_info": {
   "codemirror_mode": {
    "name": "ipython",
    "version": 3
   },
   "file_extension": ".py",
   "mimetype": "text/x-python",
   "name": "python",
   "nbconvert_exporter": "python",
   "pygments_lexer": "ipython3",
   "version": "3.7.13"
  },
  "orig_nbformat": 4
 },
 "nbformat": 4,
 "nbformat_minor": 2
}
