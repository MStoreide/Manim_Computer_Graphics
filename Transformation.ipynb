{
 "cells": [
  {
   "cell_type": "code",
   "execution_count": null,
   "metadata": {},
   "outputs": [],
   "source": [
    "#Translation\n",
    "\n",
    "class MatrixTransform(Scene):\n",
    "    def construct(self):\n",
    "        origin = Matrix([[x],[y],[z]])\n",
    "        transform = Matrix([[\\Delta x],[\\Delta y],[\\Delta z]])"
   ]
  },
  {
   "cell_type": "code",
   "execution_count": null,
   "metadata": {},
   "outputs": [],
   "source": [
    "#Scaling\n",
    "\n",
    "origin = Matrix([[x],[y],[z]])\n",
    "scalematrix = Matrix([[s_x, 0, 0],[0, s_y, 0], [0, 0, s_z]])\n",
    "\n",
    "#Should make a video here that shows how we move objects to the origin, scale, and then move it back. With grids."
   ]
  }
 ],
 "metadata": {
  "language_info": {
   "name": "python"
  },
  "orig_nbformat": 4
 },
 "nbformat": 4,
 "nbformat_minor": 2
}
