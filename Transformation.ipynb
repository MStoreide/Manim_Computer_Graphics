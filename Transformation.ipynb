{
 "cells": [
  {
   "cell_type": "code",
   "execution_count": null,
   "metadata": {},
   "outputs": [],
   "source": [
    "#Translation\n",
    "\n",
    "class MatrixTransform(Scene):\n",
    "    def construct(self):\n",
    "        origin = Matrix([[x],[y],[z]])\n",
    "        transform = Matrix([[\\Delta x],[\\Delta y],[\\Delta z]])"
   ]
  },
  {
   "cell_type": "code",
   "execution_count": null,
   "metadata": {},
   "outputs": [],
   "source": [
    "#Scaling\n",
    "\n",
    "origin = Matrix([[x],[y],[z]])\n",
    "scalematrix = Matrix([[s_x, 0, 0],[0, s_y, 0], [0, 0, s_z]])"
   ]
  }
 ],
 "metadata": {
  "language_info": {
   "name": "python"
  },
  "orig_nbformat": 4
 },
 "nbformat": 4,
 "nbformat_minor": 2
}
