{
 "cells": [
  {
   "cell_type": "code",
   "execution_count": 2,
   "metadata": {},
   "outputs": [
    {
     "ename": "ModuleNotFoundError",
     "evalue": "No module named 'manim'",
     "output_type": "error",
     "traceback": [
      "\u001b[1;31m---------------------------------------------------------------------------\u001b[0m",
      "\u001b[1;31mModuleNotFoundError\u001b[0m                       Traceback (most recent call last)",
      "Cell \u001b[1;32mIn[2], line 1\u001b[0m\n\u001b[1;32m----> 1\u001b[0m \u001b[39mfrom\u001b[39;00m \u001b[39mmanim\u001b[39;00m \u001b[39mimport\u001b[39;00m \u001b[39m*\u001b[39m\n\u001b[0;32m      2\u001b[0m \u001b[39m#This will just check the manim version\u001b[39;00m\n\u001b[0;32m      3\u001b[0m config\u001b[39m.\u001b[39mmedia_width \u001b[39m=\u001b[39m \u001b[39m\"\u001b[39m\u001b[39m75\u001b[39m\u001b[39m%\u001b[39m\u001b[39m\"\u001b[39m\n",
      "\u001b[1;31mModuleNotFoundError\u001b[0m: No module named 'manim'"
     ]
    }
   ],
   "source": [
    "from manim import *\n",
    "#This will just check the manim version\n",
    "config.media_width = \"75%\"\n",
    "config.verbosity = \"WARNING\""
   ]
  },
  {
   "cell_type": "code",
   "execution_count": 3,
   "metadata": {},
   "outputs": [
    {
     "ename": "NameError",
     "evalue": "name 'Scene' is not defined",
     "output_type": "error",
     "traceback": [
      "\u001b[1;31m---------------------------------------------------------------------------\u001b[0m",
      "\u001b[1;31mNameError\u001b[0m                                 Traceback (most recent call last)",
      "Cell \u001b[1;32mIn[3], line 4\u001b[0m\n\u001b[0;32m      1\u001b[0m \u001b[39m#Working Phong Model\u001b[39;00m\n\u001b[0;32m      2\u001b[0m \u001b[39m# Just need to fix direction latex\u001b[39;00m\n\u001b[1;32m----> 4\u001b[0m \u001b[39mclass\u001b[39;00m \u001b[39mPhongReflectionModel\u001b[39;00m(Scene):\n\u001b[0;32m      5\u001b[0m     \u001b[39mdef\u001b[39;00m \u001b[39mconstruct\u001b[39m(\u001b[39mself\u001b[39m):\n\u001b[0;32m      6\u001b[0m         formula \u001b[39m=\u001b[39m MathTex(\u001b[39mr\u001b[39m\u001b[39m\"\u001b[39m\u001b[39mf_\u001b[39m\u001b[39m{\u001b[39m\u001b[39mr,s}(\u001b[39m\u001b[39m\\\u001b[39m\u001b[39momega _i,\u001b[39m\u001b[39m\\\u001b[39m\u001b[39momega _r) = k_s(\u001b[39m\u001b[39m\\\u001b[39m\u001b[39momega _r.R _\u001b[39m\u001b[39m{\u001b[39m\u001b[39m\\\u001b[39m\u001b[39momega i})^n = k_s(\u001b[39m\u001b[39m\\\u001b[39m\u001b[39mcos \u001b[39m\u001b[39m\\\u001b[39m\u001b[39malpha)^n\u001b[39m\u001b[39m\"\u001b[39m)\n",
      "\u001b[1;31mNameError\u001b[0m: name 'Scene' is not defined"
     ]
    }
   ],
   "source": [
    "#Working Phong Model\n",
    "# Just need to fix direction latex\n",
    "\n",
    "class PhongReflectionModel(Scene):\n",
    "    def construct(self):\n",
    "        formula = MathTex(r\"f_{r,s}(\\omega _i,\\omega _r) = k_s(\\omega _r.R _{\\omega i})^n = k_s(\\cos \\alpha)^n\")\n",
    "        self.play(Write(formula), run_time=1.5) \n",
    "        self.wait()"
   ]
  },
  {
   "cell_type": "code",
   "execution_count": null,
   "metadata": {},
   "outputs": [],
   "source": [
    "#Working Blinn-Phong Model\n",
    "# Just need to fix direction latex\n",
    "\n",
    "#Should also add colors\n",
    "\n",
    "class BlinnPhongReflectionModel(Scene):\n",
    "    def construct(self):\n",
    "        formula = MathTex(r\"f_{r,BP}(\\omega _i,\\omega _r) = k_s(n.h)^n\")\n",
    "        self.play(Write(formula), run_time=1.5) \n",
    "        self.wait()"
   ]
  }
 ],
 "metadata": {
  "kernelspec": {
   "display_name": "Python 3",
   "language": "python",
   "name": "python3"
  },
  "language_info": {
   "codemirror_mode": {
    "name": "ipython",
    "version": 3
   },
   "file_extension": ".py",
   "mimetype": "text/x-python",
   "name": "python",
   "nbconvert_exporter": "python",
   "pygments_lexer": "ipython3",
   "version": "3.11.2"
  },
  "orig_nbformat": 4,
  "vscode": {
   "interpreter": {
    "hash": "b9a40f058525f2d65f9906156bda6efa59e0d787a10d236efb1510ab56f2f48e"
   }
  }
 },
 "nbformat": 4,
 "nbformat_minor": 2
}
